{
  "cells": [
    {
      "cell_type": "markdown",
      "source": [
        "# Build a chatgpt\n"
      ],
      "metadata": {
        "id": "86O-qjSIdWBX"
      },
      "id": "86O-qjSIdWBX"
    },
    {
      "cell_type": "markdown",
      "source": [
        ":)"
      ],
      "metadata": {
        "id": "82UDiR7gdYOh"
      },
      "id": "82UDiR7gdYOh"
    },
    {
      "cell_type": "code",
      "source": [
        "# We always start with a dataset to train on. Let's download the tiny shakespeare dataset\n",
        "!wget https://raw.githubusercontent.com/karpathy/char-rnn/master/data/tinyshakespeare/input.txt"
      ],
      "metadata": {
        "id": "EUjdVmlHffWa",
        "outputId": "24d68777-e7c4-47bf-99d5-1d10865ef461",
        "colab": {
          "base_uri": "https://localhost:8080/"
        }
      },
      "id": "EUjdVmlHffWa",
      "execution_count": 2,
      "outputs": [
        {
          "output_type": "stream",
          "name": "stdout",
          "text": [
            "--2025-01-18 08:29:31--  https://raw.githubusercontent.com/karpathy/char-rnn/master/data/tinyshakespeare/input.txt\n",
            "Resolving raw.githubusercontent.com (raw.githubusercontent.com)... 185.199.109.133, 185.199.110.133, 185.199.108.133, ...\n",
            "Connecting to raw.githubusercontent.com (raw.githubusercontent.com)|185.199.109.133|:443... connected.\n",
            "HTTP request sent, awaiting response... 200 OK\n",
            "Length: 1115394 (1.1M) [text/plain]\n",
            "Saving to: ‘input.txt’\n",
            "\n",
            "\rinput.txt             0%[                    ]       0  --.-KB/s               \rinput.txt           100%[===================>]   1.06M  --.-KB/s    in 0.06s   \n",
            "\n",
            "2025-01-18 08:29:31 (16.7 MB/s) - ‘input.txt’ saved [1115394/1115394]\n",
            "\n"
          ]
        }
      ]
    },
    {
      "cell_type": "code",
      "source": [],
      "metadata": {
        "id": "JQ2ypUCMiC8V"
      },
      "id": "JQ2ypUCMiC8V",
      "execution_count": null,
      "outputs": []
    }
  ],
  "metadata": {
    "kernelspec": {
      "display_name": "Python 3",
      "name": "python3"
    },
    "language_info": {
      "name": "python"
    },
    "required_libs": [],
    "colab": {
      "provenance": []
    }
  },
  "nbformat": 4,
  "nbformat_minor": 5
}